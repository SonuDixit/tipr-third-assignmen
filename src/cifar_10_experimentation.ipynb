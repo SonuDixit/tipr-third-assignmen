{
 "cells": [
  {
   "cell_type": "code",
   "execution_count": 1,
   "metadata": {},
   "outputs": [],
   "source": [
    "from utils import unpickle_cifar,get_batch_data_cifar\n",
    "import os\n",
    "import numpy as np\n",
    "from sklearn.model_selection import train_test_split"
   ]
  },
  {
   "cell_type": "code",
   "execution_count": 2,
   "metadata": {},
   "outputs": [],
   "source": [
    "from cnn import CNN\n",
    "net = CNN(input_dim = (32,32,1),\n",
    "          filter_size=[3,4,2],\n",
    "          output_dim = 10\n",
    "         )"
   ]
  },
  {
   "cell_type": "code",
   "execution_count": 3,
   "metadata": {},
   "outputs": [],
   "source": [
    "images,label = get_batch_data_cifar(1)\n",
    "for i in range(2,6):\n",
    "    i,l = get_batch_data_cifar(i)\n",
    "    images = np.vstack((images,i))\n",
    "    label.extend(l)\n",
    "\n",
    "images, x_test, label, y_test = train_test_split(images,label,test_size = 0.25)"
   ]
  },
  {
   "cell_type": "code",
   "execution_count": 4,
   "metadata": {},
   "outputs": [
    {
     "data": {
      "text/plain": [
       "(37500, 32, 32)"
      ]
     },
     "execution_count": 4,
     "metadata": {},
     "output_type": "execute_result"
    }
   ],
   "source": [
    "images.shape"
   ]
  },
  {
   "cell_type": "code",
   "execution_count": 5,
   "metadata": {},
   "outputs": [],
   "source": [
    "images2 =images.reshape(images.shape[0],32,32,1)"
   ]
  },
  {
   "cell_type": "code",
   "execution_count": 6,
   "metadata": {},
   "outputs": [
    {
     "name": "stdout",
     "output_type": "stream",
     "text": [
      "Train on 30000 samples, validate on 7500 samples\n",
      "Epoch 1/10\n",
      "30000/30000 [==============================] - 15s 501us/step - loss: 1.8567 - acc: 0.3207 - val_loss: 1.6600 - val_acc: 0.3924\n",
      "Epoch 2/10\n",
      "30000/30000 [==============================] - 12s 404us/step - loss: 1.5697 - acc: 0.4314 - val_loss: 1.4834 - val_acc: 0.4580\n",
      "Epoch 3/10\n",
      "30000/30000 [==============================] - 12s 406us/step - loss: 1.4661 - acc: 0.4741 - val_loss: 1.4246 - val_acc: 0.4907\n",
      "Epoch 4/10\n",
      "30000/30000 [==============================] - 12s 406us/step - loss: 1.4033 - acc: 0.5004 - val_loss: 1.3431 - val_acc: 0.5301\n",
      "Epoch 5/10\n",
      "30000/30000 [==============================] - 12s 406us/step - loss: 1.3505 - acc: 0.5162 - val_loss: 1.3278 - val_acc: 0.5303\n",
      "Epoch 6/10\n",
      "30000/30000 [==============================] - 12s 403us/step - loss: 1.3080 - acc: 0.5344 - val_loss: 1.2523 - val_acc: 0.5584\n",
      "Epoch 7/10\n",
      "30000/30000 [==============================] - 12s 402us/step - loss: 1.2778 - acc: 0.5462 - val_loss: 1.2469 - val_acc: 0.5621\n",
      "Epoch 8/10\n",
      "30000/30000 [==============================] - 12s 401us/step - loss: 1.2489 - acc: 0.5551 - val_loss: 1.2448 - val_acc: 0.5675\n",
      "Epoch 9/10\n",
      "30000/30000 [==============================] - 12s 403us/step - loss: 1.2327 - acc: 0.5616 - val_loss: 1.2000 - val_acc: 0.5741\n",
      "Epoch 10/10\n",
      "30000/30000 [==============================] - 12s 402us/step - loss: 1.2132 - acc: 0.5682 - val_loss: 1.2323 - val_acc: 0.5572\n"
     ]
    }
   ],
   "source": [
    "h = net.fit(images2,label,epoc=10)"
   ]
  },
  {
   "cell_type": "code",
   "execution_count": 8,
   "metadata": {},
   "outputs": [
    {
     "data": {
      "text/plain": [
       "dict_keys(['val_loss', 'val_acc', 'loss', 'acc'])"
      ]
     },
     "execution_count": 8,
     "metadata": {},
     "output_type": "execute_result"
    }
   ],
   "source": [
    "h.history.keys()"
   ]
  },
  {
   "cell_type": "code",
   "execution_count": 12,
   "metadata": {},
   "outputs": [
    {
     "name": "stdout",
     "output_type": "stream",
     "text": [
      "12500/12500 [==============================] - 2s 163us/step\n"
     ]
    },
    {
     "data": {
      "text/plain": [
       "[1.225602502861023, 0.566559999961853]"
      ]
     },
     "execution_count": 12,
     "metadata": {},
     "output_type": "execute_result"
    }
   ],
   "source": [
    "x_test = x_test.reshape((x_test.shape[0],32,32,1))\n",
    "net.evaluate(x_test,y_test)"
   ]
  },
  {
   "cell_type": "code",
   "execution_count": null,
   "metadata": {},
   "outputs": [],
   "source": []
  }
 ],
 "metadata": {
  "kernelspec": {
   "display_name": "Python 3",
   "language": "python",
   "name": "python3"
  },
  "language_info": {
   "codemirror_mode": {
    "name": "ipython",
    "version": 3
   },
   "file_extension": ".py",
   "mimetype": "text/x-python",
   "name": "python",
   "nbconvert_exporter": "python",
   "pygments_lexer": "ipython3",
   "version": "3.6.5"
  }
 },
 "nbformat": 4,
 "nbformat_minor": 2
}
